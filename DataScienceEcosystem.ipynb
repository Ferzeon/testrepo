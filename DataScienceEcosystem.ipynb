{
 "cells": [
  {
   "cell_type": "markdown",
   "id": "9da80b31-0557-4e9c-9d41-6cb763a3012f",
   "metadata": {},
   "source": [
    "# Data Science Tools and Ecosystem"
   ]
  },
  {
   "cell_type": "markdown",
   "id": "935787a2-0542-49d4-a176-32264cb828b0",
   "metadata": {},
   "source": [
    "In this notebook, Data Science Tools and Ecosystem are summarized"
   ]
  },
  {
   "cell_type": "markdown",
   "id": "371e3f3e-7d9e-4db0-85e2-a5837a16be16",
   "metadata": {},
   "source": [
    "_Objectives:_\n",
    "- List popular languages for Data Science\n",
    "- List commonly used libraries used by Data Scientist\n",
    "- Create a table containing some Data Science Tools"
   ]
  },
  {
   "cell_type": "markdown",
   "id": "344254a1-cb81-49d1-a841-a30cb5eec7ca",
   "metadata": {},
   "source": [
    "## Author\n",
    "Joan Paulo Martínez"
   ]
  },
  {
   "cell_type": "markdown",
   "id": "2864e457-2da5-48f4-a97c-081ecb35c6b4",
   "metadata": {},
   "source": [
    "Some of the popular languages that Data Scientist use are:\n",
    "1. Python\n",
    "2. R (and RStudio)\n",
    "3. SQL (Structured Query Langauge)"
   ]
  },
  {
   "cell_type": "markdown",
   "id": "ea18e4a8-e2f9-404b-817f-37ab74b38b68",
   "metadata": {},
   "source": [
    "Some of the commonly used libraries used by Data Scientists include: \n",
    "1. Numpy\n",
    "2. Pandas\n",
    "3. Scikit-learn\n",
    "4. TensorFlow\n",
    "5. Matplotlib\n",
    "6. PyTorch"
   ]
  },
  {
   "cell_type": "markdown",
   "id": "ff32f333-1dab-4426-9b84-c4edbf331613",
   "metadata": {},
   "source": [
    "|Data Science Tools|\n",
    "|:----------------:|\n",
    "|      Pandas      |\n",
    "|      Hadoop      |\n",
    "|      Spark       |"
   ]
  },
  {
   "cell_type": "markdown",
   "id": "58056658-53ab-41f7-a92a-c42a9d98d719",
   "metadata": {},
   "source": [
    "### Below are a few examples of evaluating arithmetic expressions in Python"
   ]
  },
  {
   "cell_type": "markdown",
   "id": "9762995c-3aa8-4bce-ba7d-703145072d01",
   "metadata": {},
   "source": [
    "This a simple arithmetic expression to mutiply then add integers"
   ]
  },
  {
   "cell_type": "code",
   "execution_count": 7,
   "id": "e76745b4-38f0-453d-9dd5-cb1d00f49ea9",
   "metadata": {},
   "outputs": [
    {
     "data": {
      "text/plain": [
       "17"
      ]
     },
     "execution_count": 7,
     "metadata": {},
     "output_type": "execute_result"
    }
   ],
   "source": [
    "(3*4)+5"
   ]
  },
  {
   "cell_type": "markdown",
   "id": "9ef8d9bd-ff85-4fd1-951c-332fddd61965",
   "metadata": {},
   "source": [
    "This will convert 200 minutes to hours by diving by 60"
   ]
  },
  {
   "cell_type": "code",
   "execution_count": 8,
   "id": "9e51a0da-9563-4a02-aeef-3dce8c92ffcd",
   "metadata": {},
   "outputs": [
    {
     "data": {
      "text/plain": [
       "3.3333333333333335"
      ]
     },
     "execution_count": 8,
     "metadata": {},
     "output_type": "execute_result"
    }
   ],
   "source": [
    "200/60"
   ]
  },
  {
   "cell_type": "code",
   "execution_count": null,
   "id": "76156cf6-21f1-462b-a31c-6b95140f8be5",
   "metadata": {},
   "outputs": [],
   "source": []
  }
 ],
 "metadata": {
  "kernelspec": {
   "display_name": "Python 3 (ipykernel)",
   "language": "python",
   "name": "python3"
  },
  "language_info": {
   "codemirror_mode": {
    "name": "ipython",
    "version": 3
   },
   "file_extension": ".py",
   "mimetype": "text/x-python",
   "name": "python",
   "nbconvert_exporter": "python",
   "pygments_lexer": "ipython3",
   "version": "3.11.5"
  }
 },
 "nbformat": 4,
 "nbformat_minor": 5
}
